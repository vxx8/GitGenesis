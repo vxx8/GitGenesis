{
 "cells": [
  {
   "cell_type": "markdown",
   "id": "c1fad195",
   "metadata": {},
   "source": [
    "# Exercise"
   ]
  },
  {
   "cell_type": "markdown",
   "id": "438be9ca",
   "metadata": {},
   "source": [
    "### Q1. Write a program that asks user to enter the 5 product names and prices. Store all of these in a dictionary with keys are product names and prices are values. Then allow the user to input the product name and print the corresponding price of the product."
   ]
  },
  {
   "cell_type": "code",
   "execution_count": null,
   "id": "1ca56caa",
   "metadata": {},
   "outputs": [],
   "source": [
    "#A1\n",
    "\n",
    "products = {}\n",
    "n = 5\n",
    "\n",
    "for i in range(n):\n",
    "    p = input(f\"Enter product name {i+1}: \\n\")\n",
    "    products[p] = int(input(\"Price of product: \\n\"))\n",
    "    \n",
    "print(products)\n",
    "\n",
    "check_product = input(\"Enter product name: \\n\")\n",
    "print(products[check_product])"
   ]
  },
  {
   "cell_type": "markdown",
   "id": "b25a7de7",
   "metadata": {},
   "source": [
    "### Q2. Create a dictionary where keys are name of months and days are values.\n",
    "(a) Ask the user to input a month name and use the dictionary to tell how many days are in that month.\n",
    "\n",
    "(b) Print out all the keys in alphabetical order."
   ]
  },
  {
   "cell_type": "code",
   "execution_count": 16,
   "id": "eddff53c",
   "metadata": {
    "scrolled": true
   },
   "outputs": [
    {
     "name": "stdout",
     "output_type": "stream",
     "text": [
      "Enter the month: \n",
      " January\n",
      "The number of days in January is:  31\n",
      "April\n",
      "August\n",
      "December\n",
      "February\n",
      "January\n",
      "July\n",
      "June\n",
      "March\n",
      "May\n",
      "November\n",
      "October\n",
      "September\n"
     ]
    }
   ],
   "source": [
    "#A2\n",
    "\n",
    "months = {'January':31, 'February':28, 'March':31, 'April':30, \"May\":31, 'June':30, 'July':31, \"August\":31, 'September':30, 'October':31, 'November':30, 'December':31}\n",
    "\n",
    "month_input = input(\"Enter the month: \\n \")\n",
    "print(f\"The number of days in {month_input} is: \", months[month_input])\n",
    "\n",
    "for key in sorted(months.keys()):\n",
    "    print(key)"
   ]
  },
  {
   "cell_type": "markdown",
   "id": "719e0429",
   "metadata": {},
   "source": [
    "Q3. Ask user 5 times to enter a team name and how many times the team won and how many they lost. Store the information in a dictionary where the keys are team names and values are lists of form [wins, lossess].\n",
    "(a) Using this dictionary, allow the user to enter a team name and print out the teams winning percentage.\n",
    "(b) Using this dictionary, create a list whose entries are the number of wins of each team."
   ]
  },
  {
   "cell_type": "code",
   "execution_count": 10,
   "id": "5c5d3367",
   "metadata": {},
   "outputs": [
    {
     "name": "stdout",
     "output_type": "stream",
     "text": [
      "Enter team name: \n",
      "a\n",
      "Number of wins: \n",
      "2\n",
      "Number of losses: \n",
      "2\n",
      "\n",
      "    \n",
      "Enter team name: \n",
      "b\n",
      "Number of wins: \n",
      "2\n",
      "Number of losses: \n",
      "2\n",
      "\n",
      "    \n",
      "Enter team name: \n",
      "c\n",
      "Number of wins: \n",
      "2\n",
      "Number of losses: \n",
      "2\n",
      "\n",
      "    \n",
      "Enter team name: \n",
      "d\n",
      "Number of wins: \n",
      "2\n",
      "Number of losses: \n",
      "2\n",
      "\n",
      "    \n",
      "Enter team name: \n",
      "e\n",
      "Number of wins: \n",
      "2\n",
      "Number of losses: \n",
      "2\n",
      "\n",
      "    \n",
      "Enter the team to calculate their winning percentage: \n",
      "e\n",
      "e's winning percentage is:  50.0 %\n"
     ]
    }
   ],
   "source": [
    "#A3\n",
    "\n",
    "team = {}\n",
    "n = 5\n",
    "for i in range(n):\n",
    "    team_i = input(\"Enter team name: \\n\")\n",
    "    wins = float(input(\"Number of wins: \\n\")) \n",
    "    losses = float(input(\"Number of losses: \\n\"))\n",
    "    winloss = [wins, losses]\n",
    "    team[team_i] = winloss\n",
    "    \n",
    "    print(\"\"\"\n",
    "    \"\"\")\n",
    "win_p = input(\"Enter the team to calculate their winning percentage: \\n\")\n",
    "print(f\"{win_p}'s winning percentage is: \", (wins/(wins + losses))*100, '%')"
   ]
  },
  {
   "cell_type": "markdown",
   "id": "fb84f8ee",
   "metadata": {},
   "source": [
    "Q1. Explore different built in functions available on string data structure for\n",
    "\n",
    "    - determining whether a string is alphanumeric or not\n",
    "\n",
    "    - finding out index of a substring\n",
    "\n",
    "    - finding out whether string is identifier or not"
   ]
  },
  {
   "cell_type": "code",
   "execution_count": 2,
   "id": "24116c33",
   "metadata": {},
   "outputs": [
    {
     "name": "stdout",
     "output_type": "stream",
     "text": [
      "True\n",
      "2\n",
      "False\n"
     ]
    }
   ],
   "source": [
    "#A\n",
    "\n",
    "string = \"_54nhgt\"\n",
    "\n",
    "#determining whether a string is alphanumeric or not\n",
    "print(string.isalnum())\n",
    "\n",
    "#finding out index of a substring\n",
    "print(string.index(\"n\"))\n",
    "\n",
    "#finding out whether string is identifier or not\n",
    "print(string.isidentifier())"
   ]
  },
  {
   "cell_type": "markdown",
   "id": "41bce4fc",
   "metadata": {},
   "source": [
    "### 1. Write a Python program which accepts the radius of a circle from the user and compute the area."
   ]
  },
  {
   "cell_type": "code",
   "execution_count": 5,
   "id": "f37810ac",
   "metadata": {},
   "outputs": [
    {
     "name": "stdout",
     "output_type": "stream",
     "text": [
      "Enter the value to be used as the radius of a circle: 3.7\n",
      "The radius of the circle is:  43.008403427644275\n"
     ]
    }
   ],
   "source": [
    "import math\n",
    "radius = float(input(\"Enter the value to be used as the radius of a circle: \"))\n",
    "print('The radius of the circle is: ', math.pi*(radius**2))\n"
   ]
  },
  {
   "cell_type": "markdown",
   "id": "9c99d455",
   "metadata": {},
   "source": [
    "### 2. Write a Python program to multiply all the items in a list. "
   ]
  },
  {
   "cell_type": "code",
   "execution_count": 28,
   "id": "f39d4a4d",
   "metadata": {},
   "outputs": [
    {
     "name": "stdout",
     "output_type": "stream",
     "text": [
      "[5, 10, 15, 20]\n"
     ]
    }
   ],
   "source": [
    "list = [1, 2, 3, 4]\n",
    "list1 = []\n",
    "\n",
    "multiplier = 5\n",
    "\n",
    "for i in range(len(list)):\n",
    "   list1.append((list[i])*multiplier) \n",
    "    \n",
    "\n",
    "print(list1)\n",
    "\n",
    "\n",
    "# for n in list:\n",
    "#     p +="
   ]
  },
  {
   "cell_type": "markdown",
   "id": "e7b85bac",
   "metadata": {},
   "source": [
    "### 3. Write a Python program to get the smallest number from a list. "
   ]
  },
  {
   "cell_type": "code",
   "execution_count": 14,
   "id": "15b7917f",
   "metadata": {},
   "outputs": [
    {
     "name": "stdout",
     "output_type": "stream",
     "text": [
      "109\n"
     ]
    }
   ],
   "source": [
    "my_list = [314, 217, 1879, 903, 109, 900]\n",
    "\n",
    "min = my_list[0]\n",
    "\n",
    "for value in my_list:\n",
    "    if value < min :\n",
    "        min = value\n",
    "        \n",
    "print(min)\n",
    "    "
   ]
  },
  {
   "cell_type": "markdown",
   "id": "6e0be3ee",
   "metadata": {},
   "source": [
    "### 4. Write a Python program to calculate the length of a string."
   ]
  },
  {
   "cell_type": "code",
   "execution_count": 28,
   "id": "f62d6b0d",
   "metadata": {},
   "outputs": [
    {
     "name": "stdout",
     "output_type": "stream",
     "text": [
      "Enter a random word or phrase:  Hello what\n",
      "length of the string is 10\n"
     ]
    }
   ],
   "source": [
    "string  = input(\"Enter a random word or phrase:  \")\n",
    "\n",
    "count = 0\n",
    "\n",
    "for a in string:\n",
    "    count = count + 1\n",
    "    \n",
    "print('length of the string is', count)\n",
    "        \n",
    "    \n",
    "    "
   ]
  },
  {
   "cell_type": "markdown",
   "id": "bc413de3",
   "metadata": {},
   "source": [
    "### 5. Write a Python program to count the number of characters (character frequency) in a string."
   ]
  },
  {
   "cell_type": "code",
   "execution_count": 3,
   "id": "5180d954",
   "metadata": {},
   "outputs": [
    {
     "name": "stdout",
     "output_type": "stream",
     "text": [
      "Enter a random word or phrase:  indira indira\n",
      "i 4\n",
      "n 2\n",
      "d 2\n",
      "r 2\n",
      "a 2\n",
      "  1\n"
     ]
    }
   ],
   "source": [
    "string  = input(\"Enter a random word or phrase:  \")\n",
    "\n",
    "list_string = []\n",
    "list_count = []\n",
    "\n",
    "for a in string:\n",
    "    if a not in list_string:\n",
    "        list_string.append(a)\n",
    "        list_count.append(1)\n",
    "    else:\n",
    "        index = list_string.index(a)\n",
    "        count = string.count(a)\n",
    "        list_count[index] = count\n",
    "        \n",
    "for i in range(len(list_string)):\n",
    "    print(list_string[i], list_count[i])\n",
    "\n",
    "\n",
    "\n",
    "# i = 0\n",
    "\n",
    "# for a in string:\n",
    "#     if a == string[i+1]:\n",
    "#         i =+ 1\n",
    "\n",
    "\n"
   ]
  },
  {
   "cell_type": "markdown",
   "id": "af1e6365",
   "metadata": {},
   "source": [
    "### Exercise 1\n",
    "\n",
    "Import the math module in whatever way you prefer.\n",
    "Call its sqrt function on the number 13689 and print that value to the console."
   ]
  },
  {
   "cell_type": "code",
   "execution_count": 37,
   "id": "eaaa7483",
   "metadata": {},
   "outputs": [
    {
     "name": "stdout",
     "output_type": "stream",
     "text": [
      "117.0\n"
     ]
    }
   ],
   "source": [
    "from math import sqrt as root\n",
    "\n",
    "print(root(13689))"
   ]
  },
  {
   "cell_type": "markdown",
   "id": "598b78f4",
   "metadata": {},
   "source": [
    "### Exercise 2\n",
    "\n",
    "Write a shutting down program:\n",
    "\n",
    "First, def a function, shut_down, that takes one argument s.\n",
    "Then, if the shut_down function receives an s equal to \"yes\",\n",
    "it should return \"Shutting down\" Alternatively, elif s is equal to \"no\",\n",
    "then the function should return \"Shutdown aborted\".\n",
    "Finally, if shut_down gets anything other than those inputs,\n",
    "the function should return \"Sorry\""
   ]
  },
  {
   "cell_type": "code",
   "execution_count": 5,
   "id": "06af8a39",
   "metadata": {},
   "outputs": [
    {
     "name": "stdout",
     "output_type": "stream",
     "text": [
      "Shutting Down\n",
      "Shutdown Aborted\n",
      "Sorry\n",
      "Would you like to shut down? (Yes or No): Yes\n",
      "Shutting Down\n"
     ]
    }
   ],
   "source": [
    "def shut_down(s):\n",
    "    s = s.lower()\n",
    "    if s == \"yes\":\n",
    "        print(\"Shutting Down\")\n",
    "    elif s == \"no\":\n",
    "        print(\"Shutdown Aborted\")\n",
    "    else:\n",
    "        #s != \"yes\" and s != \"no\"\n",
    "        print(\"Sorry\")\n",
    "\n",
    "shut_down('yes')\n",
    "shut_down('no')\n",
    "shut_down(\"yasd\")    \n",
    "\n",
    "shut_down1 = input('Would you like to shut down? (Yes or No): ')\n",
    "shut_down(shut_down1)"
   ]
  },
  {
   "cell_type": "markdown",
   "id": "e499381a",
   "metadata": {},
   "source": [
    "### Exercise 3\n",
    "\n",
    "Let's use functions to calculate your trip's costs:\n",
    "\n",
    "Define a function called hotel_cost with one argument nights as input.\n",
    "The hotel costs $140 per night. So, the function hotel_cost should return 140 * nights.\n",
    "\n",
    "Define a function called plane_ride_cost that takes a string, city, as input.\n",
    "The function should return a different price depending on the location.\n",
    "Below are the valid destinations and their corresponding round-trip prices.\n",
    "\"Charlotte\": 183\n",
    "\"Tampa\": 220\n",
    "\"Pittsburgh\": 222\n",
    "\"Los Angeles\": 475\n",
    "\n",
    "-Below your existing code, define a function called rental_car_cost with an argument called days.\n",
    "Calculate the cost of renting the car: Every day you rent the car and it costs $40.(cost=40*days)\n",
    "If you rent the car for 7 or more days, you get $50 off your total(cost-=50). \n",
    "Alternatively (elif), if you rent the car for 3 or more days, you get $20 off your total. \n",
    "You cannot get both of the above discounts. Return that cost. \n",
    "\n",
    "-Then, define a function called trip_cost that takes two arguments, city and days.\n",
    "Modify your trip_cost function definition having your function return the sum of calling the rental_car_cost(days), hotel_cost(nights), and plane_ride_cost(city) functions.\n",
    ". Add a third argument, spending_money. Modify what the trip_cost function does. \n",
    "Add the variable spending_money to the sum that it returns."
   ]
  },
  {
   "cell_type": "code",
   "execution_count": 67,
   "id": "ac3b0d95",
   "metadata": {},
   "outputs": [
    {
     "name": "stdout",
     "output_type": "stream",
     "text": [
      "Enter your spending money for the trip:  0\n"
     ]
    },
    {
     "data": {
      "text/plain": [
       "1545"
      ]
     },
     "execution_count": 67,
     "metadata": {},
     "output_type": "execute_result"
    }
   ],
   "source": [
    "def hotel_cost(nights):\n",
    "    return 140 * nights\n",
    "\n",
    "def plane_ride_cost(city: str):\n",
    "    city = city.lower()\n",
    "    if city == 'charlotte':\n",
    "        return 183\n",
    "    elif city == 'tampa':\n",
    "        return 220\n",
    "    elif city == 'pittsburg':\n",
    "        return 222\n",
    "    elif city == 'los angeles':\n",
    "        return 475\n",
    "\n",
    "def rental_car_cost(days):\n",
    "    if days >= 7:\n",
    "        return 40*days - 50\n",
    "    elif days >= 3: #and days <7:\n",
    "        return 40*days - 20\n",
    "    else:\n",
    "        return 40*days\n",
    "\n",
    "def trip_cost(city, days):\n",
    "    spending_money = int(input(\"Enter your spending money for the trip:  \"))\n",
    "    nights = days - 1\n",
    "    return hotel_cost(nights) + plane_ride_cost(city) + rental_car_cost(days) + spending_money #how do you use sum here?\n",
    "    \n",
    "trip_cost('los angeles', 7)\n"
   ]
  },
  {
   "cell_type": "markdown",
   "id": "e659ea84",
   "metadata": {},
   "source": [
    "### Exercise 4\n",
    "\n",
    "First, def a function called distance_from_zero,\n",
    "with one argument (choose any argument name you like).\n",
    "If the type of the argument is either int or float, the function should return\n",
    "the absolute value of the function input. Otherwise, the function should return \"Nope\".\n",
    "Check if it works calling the function with -5.6 and \"what?\""
   ]
  },
  {
   "cell_type": "code",
   "execution_count": 71,
   "id": "1cc2889d",
   "metadata": {},
   "outputs": [
    {
     "name": "stdout",
     "output_type": "stream",
     "text": [
      "5.6\n",
      "Nope\n"
     ]
    }
   ],
   "source": [
    "def distance_from_zero(x):\n",
    "    if type(x) == float or type(x) == int:\n",
    "        print(abs(x))\n",
    "    else:\n",
    "        print(\"Nope\")\n",
    "        \n",
    "distance_from_zero(-5.6)\n",
    "distance_from_zero(\"hello\")\n",
    "    "
   ]
  },
  {
   "cell_type": "markdown",
   "id": "940e7d13",
   "metadata": {},
   "source": [
    "### Exercise 5\n",
    "Follow the steps:\n",
    "\n",
    "First, def a function called cube that takes an argument called number.\n",
    "Make that function return the cube of that number (i.e. that number multiplied by itself and multiplied by itself once again).\n",
    "Define a second function called by_three that takes an argument called number.\n",
    "if that number is divisible by 3,by_threeshould call cube(number) and return its result.\n",
    "Otherwise, by_three should return False. -Check if it works. "
   ]
  },
  {
   "cell_type": "code",
   "execution_count": 6,
   "id": "7cc6e28f",
   "metadata": {},
   "outputs": [
    {
     "name": "stdout",
     "output_type": "stream",
     "text": [
      "Enter a number: 5\n",
      "125\n"
     ]
    },
    {
     "data": {
      "text/plain": [
       "'False'"
      ]
     },
     "execution_count": 6,
     "metadata": {},
     "output_type": "execute_result"
    }
   ],
   "source": [
    "def cube(number):\n",
    "    print(number**3)\n",
    "\n",
    "def by_three(number):\n",
    "    if number % 3 == 0:\n",
    "        return cube(number)\n",
    "    else:\n",
    "        return 'False'\n",
    "    \n",
    "number = int(input('Enter a number: ')) \n",
    "cube(number)\n",
    "by_three(number)"
   ]
  },
  {
   "cell_type": "markdown",
   "id": "0c47880b",
   "metadata": {},
   "source": [
    "### Exercise 6\n",
    "\n",
    "Write a Python program which iterates the integers from 1 to 50. \n",
    " \n",
    " For multiples of three print \"Fizz\" instead of the number and for the multiples of five print \"Buzz\". \n",
    " \n",
    " For numbers which are multiples of both three and five print \"FizzBuzz\".\n",
    "\n",
    " Sample Output : \n",
    " \n",
    " fizzbuzz\n",
    " \n",
    " 1\n",
    " \n",
    " 2\n",
    " \n",
    " fizz\n",
    " \n",
    " 4 \n",
    " \n",
    " buzz"
   ]
  },
  {
   "cell_type": "code",
   "execution_count": 9,
   "id": "41a68796",
   "metadata": {},
   "outputs": [
    {
     "name": "stdout",
     "output_type": "stream",
     "text": [
      "1\n",
      "2\n",
      "Fizz\n",
      "4\n",
      "Buzz\n",
      "Fizz\n",
      "7\n",
      "8\n",
      "Fizz\n",
      "Buzz\n",
      "11\n",
      "Fizz\n",
      "13\n",
      "14\n",
      "Fizzbuzz\n",
      "16\n",
      "17\n",
      "Fizz\n",
      "19\n",
      "Buzz\n",
      "Fizz\n",
      "22\n",
      "23\n",
      "Fizz\n",
      "Buzz\n",
      "26\n",
      "Fizz\n",
      "28\n",
      "29\n",
      "Fizzbuzz\n",
      "31\n",
      "32\n",
      "Fizz\n",
      "34\n",
      "Buzz\n",
      "Fizz\n",
      "37\n",
      "38\n",
      "Fizz\n",
      "Buzz\n",
      "41\n",
      "Fizz\n",
      "43\n",
      "44\n",
      "Fizzbuzz\n",
      "46\n",
      "47\n",
      "Fizz\n",
      "49\n",
      "Buzz\n"
     ]
    }
   ],
   "source": [
    "for i in range(1, 51):\n",
    "    if i % 3 == 0 and i % 5 == 0:\n",
    "        print(\"Fizzbuzz\")\n",
    "    elif i % 3 == 0:\n",
    "        print(\"Fizz\")\n",
    "    elif i % 5 == 0:\n",
    "        print(\"Buzz\")\n",
    "    else:\n",
    "        print(i)"
   ]
  },
  {
   "cell_type": "markdown",
   "id": "fa584709",
   "metadata": {},
   "source": [
    "### Exercise 7\n",
    "\n",
    "Write a Python program to find those numbers which are divisible by 7 and multiple of 5,\n",
    " between 1500 and 2700 (both included)."
   ]
  },
  {
   "cell_type": "code",
   "execution_count": 86,
   "id": "d9d8b8db",
   "metadata": {},
   "outputs": [
    {
     "name": "stdout",
     "output_type": "stream",
     "text": [
      "1505\n",
      "1540\n",
      "1575\n",
      "1610\n",
      "1645\n",
      "1680\n",
      "1715\n",
      "1750\n",
      "1785\n",
      "1820\n",
      "1855\n",
      "1890\n",
      "1925\n",
      "1960\n",
      "1995\n",
      "2030\n",
      "2065\n",
      "2100\n",
      "2135\n",
      "2170\n",
      "2205\n",
      "2240\n",
      "2275\n",
      "2310\n",
      "2345\n",
      "2380\n",
      "2415\n",
      "2450\n",
      "2485\n",
      "2520\n",
      "2555\n",
      "2590\n",
      "2625\n",
      "2660\n",
      "2695\n"
     ]
    }
   ],
   "source": [
    "for i in range(1500, 2701):\n",
    "    if i % 7 == 0 and i % 5 == 0:\n",
    "        print(i)\n",
    "\n",
    "        \n",
    "#Alternatively, you can use the for loop below        \n",
    "        \n",
    "# for i in range(1500, 2701, 5):\n",
    "#     if i % 7 == 0: \n",
    "#         print(i)"
   ]
  },
  {
   "cell_type": "markdown",
   "id": "0b2603e6",
   "metadata": {},
   "source": [
    "### Q1. Explore different built in functions available on string data structure for\n",
    "\n",
    "    - determining whether a string is alphanumeric or not\n",
    "\n",
    "    - finding out index of a substring\n",
    "\n",
    "    - finding out whether string is identifier or not"
   ]
  },
  {
   "cell_type": "code",
   "execution_count": 100,
   "id": "5a45b99a",
   "metadata": {},
   "outputs": [
    {
     "name": "stdout",
     "output_type": "stream",
     "text": [
      "False\n",
      "4\n",
      "True\n",
      "False\n",
      "_ 0\n",
      "_ 1\n",
      "b 2\n",
      "h 3\n",
      "n 4\n",
      "5 5\n",
      "4 6\n",
      "4 7\n",
      "_ 8\n"
     ]
    }
   ],
   "source": [
    "string = \"__bhn544_\"\n",
    "\n",
    "#determining whether a string is alphanumeric or not\n",
    "print(string.isalnum())\n",
    "\n",
    "#finding out index of a substring\n",
    "print(string.index('n'))\n",
    "\n",
    "#finding out whether string is identifier or not\n",
    "print(string.isidentifier())\n",
    "\n",
    "\n",
    "#alternate solution\n",
    "\n",
    "string1 = string\n",
    "\n",
    "print(string1.isalnum())\n",
    "\n",
    "string1_list = list(string1)\n",
    "\n",
    "for i in range(len(string1_list)):\n",
    "    print((string1_list[i]), i)\n"
   ]
  },
  {
   "cell_type": "markdown",
   "id": "aa973072",
   "metadata": {},
   "source": [
    "### Q2. Write a function called draw_rectangle that takes two arguments length and height and prints an outcome of length * height box consisting of asterisks.\n",
    "Call that function with length = 5 and height = 3\n",
    "\n",
    "Call that function with length = 10 and height = 5"
   ]
  },
  {
   "cell_type": "code",
   "execution_count": 107,
   "id": "a113cba7",
   "metadata": {},
   "outputs": [
    {
     "name": "stdout",
     "output_type": "stream",
     "text": [
      "*****\n",
      "*****\n",
      "*****\n",
      "\n",
      "**********\n",
      "**********\n",
      "**********\n",
      "**********\n",
      "**********\n"
     ]
    }
   ],
   "source": [
    "def draw_rectangle(length, height):\n",
    "    for i in range(height):\n",
    "        print('*'*length)\n",
    "\n",
    "draw_rectangle(5, 3)\n",
    "print(\"\")\n",
    "draw_rectangle(10, 5)"
   ]
  },
  {
   "cell_type": "markdown",
   "id": "eaa45849",
   "metadata": {},
   "source": [
    "### Q3. Write a function called sum_digits that is given an integer num and returns the sum of the digits of sum."
   ]
  },
  {
   "cell_type": "code",
   "execution_count": 11,
   "id": "52e8245a",
   "metadata": {},
   "outputs": [
    {
     "name": "stdout",
     "output_type": "stream",
     "text": [
      "Enter a number here: 12\n"
     ]
    },
    {
     "data": {
      "text/plain": [
       "3"
      ]
     },
     "execution_count": 11,
     "metadata": {},
     "output_type": "execute_result"
    }
   ],
   "source": [
    "def sum_digits(num):\n",
    "    x = (int(a) for a in str(num))\n",
    "    return sum(x)\n",
    "\n",
    "\n",
    "#     x = []\n",
    "#     for a in range(len(str(num))):\n",
    "#         index = str(num).index(a)\n",
    "#         x[index] = int(str(num))\n",
    "#         print(x)\n",
    "        \n",
    "\n",
    "sum_digits(int(input(\"Enter a number here: \")))"
   ]
  },
  {
   "cell_type": "markdown",
   "id": "0db2e3c6",
   "metadata": {},
   "source": [
    "### Q4. Write a function called len_upper that accepts string as input and returns the number of capital letters present in the string. If no capital letters are present in the then prints the error message in the function then returns -1 as output."
   ]
  },
  {
   "cell_type": "code",
   "execution_count": 39,
   "id": "4c150d99",
   "metadata": {},
   "outputs": [
    {
     "name": "stdout",
     "output_type": "stream",
     "text": [
      "The number of uppercase letters is:  2\n"
     ]
    }
   ],
   "source": [
    "def len_upper(string=str):\n",
    "    count = 0\n",
    "    if string.islower() != True:\n",
    "        for i in string:\n",
    "            if i.isupper() == True:\n",
    "                count += 1\n",
    "        print(\"The number of uppercase letters is: \", count)\n",
    "    else:\n",
    "        return -1\n",
    "\n",
    "len_upper(\"aaBB\")\n"
   ]
  },
  {
   "cell_type": "markdown",
   "id": "df55aedf",
   "metadata": {},
   "source": [
    "### Q5.Write a function call one_way that takes two strings and returns True if the strings are of the same length and differ in exactly one letter, like bike/hike or water/wafer. "
   ]
  },
  {
   "cell_type": "code",
   "execution_count": 9,
   "id": "754edb0b",
   "metadata": {},
   "outputs": [
    {
     "data": {
      "text/plain": [
       "True"
      ]
     },
     "execution_count": 9,
     "metadata": {},
     "output_type": "execute_result"
    }
   ],
   "source": [
    "def one_way(str1=str, str2=str):\n",
    "    \n",
    "    \n",
    "    count = 0\n",
    "    \n",
    "    if len(str1) == len(str2):\n",
    "        for i in range(len(str1)):\n",
    "            if str1[i] != str2[i]:\n",
    "                count += 1\n",
    "    if count == 1:\n",
    "            return True\n",
    "    else:\n",
    "            return False\n",
    "                \n",
    "one_way(\"mike\", \"bike\")"
   ]
  },
  {
   "cell_type": "markdown",
   "id": "98c691ad",
   "metadata": {},
   "source": [
    "### Q6. Recall that if s is string, then s.find('a') will find the location of the first a in s. The problem is that it does not find the location of every a. Write a function called findall that given a string and a single character, returns a list containing all of the locations of that character in the string. It should return an empty list if there are no occurences of the character in the list."
   ]
  },
  {
   "cell_type": "code",
   "execution_count": 12,
   "id": "1364e48b",
   "metadata": {},
   "outputs": [
    {
     "data": {
      "text/plain": [
       "[2, 7, 17, 27, 34]"
      ]
     },
     "execution_count": 12,
     "metadata": {},
     "output_type": "execute_result"
    }
   ],
   "source": [
    "def findall(string=str, char=str):\n",
    "    \n",
    "    list = []\n",
    "    \n",
    "    for i in range(len(string)):\n",
    "        if char == string[i]:\n",
    "            list.append(i)\n",
    "    \n",
    "    return list\n",
    "\n",
    "findall(\"What beautiful weather we have today\", \"a\")"
   ]
  },
  {
   "cell_type": "markdown",
   "id": "956d69fe",
   "metadata": {},
   "source": [
    "### Write a program to take lines from a user and write those to a a file. Then display the content of this file."
   ]
  },
  {
   "cell_type": "code",
   "execution_count": null,
   "id": "8cf2c9ab",
   "metadata": {},
   "outputs": [],
   "source": [
    "def text(text1=str, text2=str, text3= str, filename = str):\n",
    "    file = open(filename, 'w')\n",
    "    print(text1, file = file)\n",
    "    print(text2, file = file)\n",
    "    print(text3, file = file)\n",
    "    file.close()\n",
    "    \n",
    "    file = open(filename, 'r')\n",
    "    print(file.read())\n",
    "    \n",
    "\n",
    "    \n",
    "text1 = input(\"Enter a sentence here:  \")\n",
    "text2 = input(\"Enter a second sentence here:  \")\n",
    "text3 = input(\"Enter a third sentence here:  \")\n",
    "\n",
    "filename = input(\"Now enter a name for your file:  \") + '.txt'\n",
    "# print(filename)\n",
    "\n",
    "print(\"\")\n",
    "\n",
    "text(text1, text2, text3, filename)"
   ]
  },
  {
   "cell_type": "code",
   "execution_count": 3,
   "id": "53a6ef82",
   "metadata": {},
   "outputs": [
    {
     "name": "stdout",
     "output_type": "stream",
     "text": [
      "Enter a name for your file:  hello2\n",
      "Enter a sentence here, when finished type 'done' and hit enter:  1\n",
      "2\n",
      "3\n",
      "4\n",
      "5\n",
      "6\n",
      "7\n",
      "done\n"
     ]
    }
   ],
   "source": [
    "def text(text1, filename = str):\n",
    "    file = open(filename, 'a')\n",
    "    if text1 != \"done\":\n",
    "        print(text1, file = file)\n",
    "        file.close()\n",
    "    \n",
    "#     file = open(filename, 'r')\n",
    "#     print(file.read())\n",
    "    \n",
    "\n",
    "filename = input(\"Enter a name for your file:  \") + '.txt'\n",
    "# print(filename)\n",
    "\n",
    "text1 = \"\"\n",
    "\n",
    "text1 = input(\"Enter a sentence here, when finished type 'done' and hit enter:  \")\n",
    "\n",
    "\n",
    "while text1 != \"done\":\n",
    "    text1 = input()\n",
    "    text(text1, filename)\n",
    "\n",
    "\n",
    "text(text1, filename)"
   ]
  },
  {
   "cell_type": "code",
   "execution_count": null,
   "id": "42083842",
   "metadata": {},
   "outputs": [],
   "source": []
  }
 ],
 "metadata": {
  "kernelspec": {
   "display_name": "Python 3 (ipykernel)",
   "language": "python",
   "name": "python3"
  },
  "language_info": {
   "codemirror_mode": {
    "name": "ipython",
    "version": 3
   },
   "file_extension": ".py",
   "mimetype": "text/x-python",
   "name": "python",
   "nbconvert_exporter": "python",
   "pygments_lexer": "ipython3",
   "version": "3.9.12"
  }
 },
 "nbformat": 4,
 "nbformat_minor": 5
}
